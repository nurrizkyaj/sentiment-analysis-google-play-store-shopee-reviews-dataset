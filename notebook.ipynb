{
  "cells": [
    {
      "cell_type": "markdown",
      "metadata": {
        "id": "Q58yRvcGrsJ7"
      },
      "source": [
        "# Import Library"
      ]
    },
    {
      "cell_type": "code",
      "execution_count": null,
      "metadata": {
        "id": "IpR6rPhPWPrq"
      },
      "outputs": [],
      "source": [
        "# Import Libraries\n",
        "import csv\n",
        "import re\n",
        "import string\n",
        "from io import StringIO\n",
        "import unicodedata\n",
        "\n",
        "import pandas as pd\n",
        "import requests\n",
        "\n",
        "import matplotlib.pyplot as plt\n",
        "\n",
        "import nltk\n",
        "from nltk.tokenize import word_tokenize\n",
        "from nltk.corpus import stopwords\n",
        "from Sastrawi.Stemmer.StemmerFactory import StemmerFactory\n",
        "\n",
        "from sklearn.feature_extraction.text import TfidfVectorizer\n",
        "from sklearn.linear_model import LogisticRegression\n",
        "from sklearn.svm import SVC\n",
        "from sklearn.metrics import accuracy_score, classification_report\n",
        "from sklearn.model_selection import train_test_split\n",
        "\n",
        "import tensorflow as tf\n",
        "from tensorflow.keras.models import Sequential\n",
        "from tensorflow.keras.layers import Dense, Dropout, BatchNormalization, LSTM, GRU, Embedding\n",
        "from tensorflow.keras.preprocessing.text import Tokenizer\n",
        "from tensorflow.keras.preprocessing.sequence import pad_sequences\n",
        "from tensorflow.keras.layers import Conv1D, GlobalMaxPooling1D\n",
        "\n",
        "import warnings\n",
        "warnings.filterwarnings(\"ignore\")"
      ]
    },
    {
      "cell_type": "code",
      "execution_count": null,
      "metadata": {
        "colab": {
          "base_uri": "https://localhost:8080/"
        },
        "id": "cm0rKn-kwh0t",
        "outputId": "f4076491-a968-4645-c54f-ab0c8e4758a2"
      },
      "outputs": [
        {
          "name": "stderr",
          "output_type": "stream",
          "text": [
            "[nltk_data] Downloading package punkt_tab to\n",
            "[nltk_data]     C:\\Users\\nurri\\AppData\\Roaming\\nltk_data...\n",
            "[nltk_data]   Package punkt_tab is already up-to-date!\n",
            "[nltk_data] Downloading package stopwords to\n",
            "[nltk_data]     C:\\Users\\nurri\\AppData\\Roaming\\nltk_data...\n",
            "[nltk_data]   Package stopwords is already up-to-date!\n"
          ]
        },
        {
          "data": {
            "text/plain": [
              "True"
            ]
          },
          "execution_count": 2,
          "metadata": {},
          "output_type": "execute_result"
        }
      ],
      "source": [
        "# Download packages\n",
        "nltk.download('punkt_tab')\n",
        "nltk.download('stopwords')"
      ]
    },
    {
      "cell_type": "markdown",
      "metadata": {
        "id": "meBN16dFoVbx"
      },
      "source": [
        "# Data Preparation"
      ]
    },
    {
      "cell_type": "code",
      "execution_count": null,
      "metadata": {
        "id": "aoiQ2QV0YY2R"
      },
      "outputs": [],
      "source": [
        "# Read the CSV file into a DataFrame\n",
        "df = pd.read_csv('reviews_shopee.csv')"
      ]
    },
    {
      "cell_type": "code",
      "execution_count": null,
      "metadata": {
        "colab": {
          "base_uri": "https://localhost:8080/",
          "height": 608
        },
        "id": "O4q7FjRnYZHd",
        "outputId": "f0085a0f-8dd1-46a8-acc1-738213f417d8"
      },
      "outputs": [
        {
          "data": {
            "application/vnd.microsoft.datawrangler.viewer.v0+json": {
              "columns": [
                {
                  "name": "index",
                  "rawType": "int64",
                  "type": "integer"
                },
                {
                  "name": "Review",
                  "rawType": "object",
                  "type": "string"
                }
              ],
              "ref": "7ce54726-966b-47a3-b261-0c161c2fac36",
              "rows": [
                [
                  "0",
                  "saran saja. harusnya cantumkan nomor kurir untuk memudahkan komunikasi saat pengantaran. karna ngak semua costumer/ pembeli itu semuanya pembayaran bayar dengan nontunai. meminimalisir yang pembayarannya memakai c.o.d untuk lebih mudah berkomunikasi apabila si costumer tidak ada d lokasi."
                ],
                [
                  "1",
                  "Semua sudah bagus, tapi maaf. Aplikasi atau web kadang sangat lelet. Loadingnya sangat lama bahkan tidak bisa. apalagi saat saya pake wifi. saya sudah pake di handphone dan laptop yang berbeda tetapi tetap sama memang masalah aplikasinya. mohon untuk ditingkatkan 🙏"
                ],
                [
                  "2",
                  "Aplikasi ini sangat bagus dan mudah dalam penggunaannya memang banyak fitur menarik dan berbagai permaianannya. Tapi lama kelamaan aplikasinya terasah semakin berat. Saran saya cuma tolong dibuat agar tidak terlalu menghabiskan memori kalau bisa ya dibuat Mode LITE nya, untuk tambahan saya agak kecewa setelah sekian lama memakai aplikasi Shopee kenapa limit Spaylater dan Spinjam saya tidak ada peningkatan dan untuk tenor tidak ada perkembangan tetap stuck di 6bulan saja"
                ],
                [
                  "3",
                  "aplikasi udah gk berat lagi ,sudah lancar tetapi ada satu yang kurang suka,ketika baru buka apk shopee langsung menuju ke bagian live/video ,karna ketika masuk langsung ngelag kdng keluar sendiri. tolong benerin ya ,untuk apk nya saya suka sekali bangak diskonan😀 dan layanannya juga lengkap banget ,ketika pengiriman tertunda,lalu chat masalah di cs ,waaw langsung diutamain paket kita ,tetapi sekarang hihi biaya layanan pas beli produk sekarang mulai naik 2000 kdng 3000 😅"
                ],
                [
                  "4",
                  "selama belanja disini Alhamdulillah sih aman2 aja,cara pengembalian dana jg mudah cuma lama kelamaan terlalu bnyk biaya potongan klo berbelanja,.biaya penanganan lah,biaya ongkir yg lumayan tinggi,blm lagi bungan paylaternya terkadang jg lumayan tinggi padahal selama pakai shoppe sya tdk pernah nyicil pembayaran apa lagi nunggak,tolonglah biaya2 yg tdk penting serta bunga paylater ataupun biaya ongkir dikurangi supaya ttp menjadi pelanggan setia"
                ]
              ],
              "shape": {
                "columns": 1,
                "rows": 5
              }
            },
            "text/html": [
              "<div>\n",
              "<style scoped>\n",
              "    .dataframe tbody tr th:only-of-type {\n",
              "        vertical-align: middle;\n",
              "    }\n",
              "\n",
              "    .dataframe tbody tr th {\n",
              "        vertical-align: top;\n",
              "    }\n",
              "\n",
              "    .dataframe thead th {\n",
              "        text-align: right;\n",
              "    }\n",
              "</style>\n",
              "<table border=\"1\" class=\"dataframe\">\n",
              "  <thead>\n",
              "    <tr style=\"text-align: right;\">\n",
              "      <th></th>\n",
              "      <th>Review</th>\n",
              "    </tr>\n",
              "  </thead>\n",
              "  <tbody>\n",
              "    <tr>\n",
              "      <th>0</th>\n",
              "      <td>saran saja. harusnya cantumkan nomor kurir unt...</td>\n",
              "    </tr>\n",
              "    <tr>\n",
              "      <th>1</th>\n",
              "      <td>Semua sudah bagus, tapi maaf. Aplikasi atau we...</td>\n",
              "    </tr>\n",
              "    <tr>\n",
              "      <th>2</th>\n",
              "      <td>Aplikasi ini sangat bagus dan mudah dalam peng...</td>\n",
              "    </tr>\n",
              "    <tr>\n",
              "      <th>3</th>\n",
              "      <td>aplikasi udah gk berat lagi ,sudah lancar teta...</td>\n",
              "    </tr>\n",
              "    <tr>\n",
              "      <th>4</th>\n",
              "      <td>selama belanja disini Alhamdulillah sih aman2 ...</td>\n",
              "    </tr>\n",
              "  </tbody>\n",
              "</table>\n",
              "</div>"
            ],
            "text/plain": [
              "                                              Review\n",
              "0  saran saja. harusnya cantumkan nomor kurir unt...\n",
              "1  Semua sudah bagus, tapi maaf. Aplikasi atau we...\n",
              "2  Aplikasi ini sangat bagus dan mudah dalam peng...\n",
              "3  aplikasi udah gk berat lagi ,sudah lancar teta...\n",
              "4  selama belanja disini Alhamdulillah sih aman2 ..."
            ]
          },
          "execution_count": 4,
          "metadata": {},
          "output_type": "execute_result"
        }
      ],
      "source": [
        "# Display the first five rows of the DataFrame\n",
        "df.head()"
      ]
    },
    {
      "cell_type": "code",
      "execution_count": null,
      "metadata": {
        "colab": {
          "base_uri": "https://localhost:8080/"
        },
        "id": "0x4OKZm9pWOG",
        "outputId": "1d977faa-afd8-4297-cd9a-08b80fa6bee8"
      },
      "outputs": [
        {
          "name": "stdout",
          "output_type": "stream",
          "text": [
            "<class 'pandas.core.frame.DataFrame'>\n",
            "RangeIndex: 72000 entries, 0 to 71999\n",
            "Data columns (total 1 columns):\n",
            " #   Column  Non-Null Count  Dtype \n",
            "---  ------  --------------  ----- \n",
            " 0   Review  72000 non-null  object\n",
            "dtypes: object(1)\n",
            "memory usage: 562.6+ KB\n"
          ]
        }
      ],
      "source": [
        "# Show summary information of the raw reviews DataFrame\n",
        "df.info()"
      ]
    },
    {
      "cell_type": "markdown",
      "metadata": {
        "id": "znnoGU5Rt6mL"
      },
      "source": [
        "# Data Preprocessing"
      ]
    },
    {
      "cell_type": "code",
      "execution_count": null,
      "metadata": {
        "id": "t-M9Ic1wKVas"
      },
      "outputs": [],
      "source": [
        "# Function to clean the text\n",
        "def cleaning_text(text):\n",
        "    text = re.sub(r'@[A-Za-z0-9]+', '', text)\n",
        "    text = re.sub(r'#[A-Za-z0-9]+', '', text)\n",
        "    text = re.sub(r'RT[\\s]', '', text)\n",
        "    text = re.sub(r\"http\\S+\", '', text)\n",
        "    text = re.sub(r'\\S+@\\S+', '', text)\n",
        "    text = unicodedata.normalize('NFKD', text).encode('ASCII', 'ignore').decode('ASCII')\n",
        "    text = re.sub(r'[0-9]+', '', text)\n",
        "    text = text.translate(str.maketrans('', '', string.punctuation))\n",
        "    text = re.sub(r'[^\\w\\s]', '', text)\n",
        "    text = re.sub(r'[^\\x00-\\x7F]+', '', text)\n",
        "    text = text.replace('\\n', ' ')\n",
        "    text = ' '.join(text.split())\n",
        "    text = text.strip()\n",
        "\n",
        "    return text"
      ]
    },
    {
      "cell_type": "code",
      "execution_count": null,
      "metadata": {
        "id": "Faexeb7aQAOK"
      },
      "outputs": [],
      "source": [
        "# Function to casefold the text\n",
        "def casefolding_text(text):\n",
        "    return text.lower()"
      ]
    },
    {
      "cell_type": "code",
      "execution_count": null,
      "metadata": {
        "id": "d-XojEtSQZhD"
      },
      "outputs": [],
      "source": [
        "# Function to slangword the text\n",
        "slangwords = {\n",
        "    \"lo\": \"kamu\", \"gue\": \"saya\", \"kaga\": \"tidak\", \"nggak\": \"tidak\", \"bgt\": \"banget\", \"ttg\": \"tentang\", \"gpp\": \"tidak apa-apa\",\n",
        "    \"pls\": \"please\", \"omg\": \"oh my god\", \"lho\": \"loh\", \"gimana\": \"bagaimana\", \"gak\": \"tidak\", \"biasa aja\": \"biasa saja\", \"vocer\": \"voucer\",\n",
        "    \"nambahin\": \"menambahkan\", \"fitur\": \"fitur\", \"update\": \"pembaruan\", \"fix\": \"perbaiki\", \"cari\": \"mencari\", \"original\": \"asli\",\n",
        "    \"susah\": \"sulit\", \"bikin\": \"membuat\", \"mau\": \"ingin\", \"tunggu\": \"menunggu\", \"cepet\": \"cepat\", \"pdhl\": \"padahal\",  \"kw\": \"palsu\",\n",
        "    \"benerin\": \"memperbaiki\", \"yg\": \"yang\", \"utk\": \"untuk\", \"sih\": \"ya\", \"spx\": \"layanan pengiriman\", \"lemot\": \"lambat\", \"pas\": \"tepat\",\n",
        "    \"banyak\": \"banyak\", \"ongkir\": \"biaya pengiriman\", \"bosen\": \"bosan\", \"nyebelin\": \"menyebalkan\", \"kalau\": \"apabila\", \"real\": \"asli\",\n",
        "    \"murahan\": \"harga rendah\", \"gampang\": \"mudah\", \"susah banget\": \"sulit sekali\", \"oke\": \"baik\", \"batal\": \"dibatalkan\", \"kl\": \"jika\", \"hp\": \"ponsel\",\n",
        "    \"refund\": \"pengembalian dana\", \"nge-bug\": \"mengalami masalah\", \"not responding\": \"tidak merespon\", \"crash\": \"terhenti\", \"close\": \"keluar\",\n",
        "    \"lag\": \"kesalahan respon sistem\", \"glitch\": \"kerusakan sistem\", \"worth it\": \"sebanding\", \"spam\": \"iklan\", \"fake\": \"palsu\", \"horrible\": \"mengerikan\",\n",
        "    \"oke banget\": \"sangat baik\", \"payah\": \"buruk\", \"kritis\": \"penting\", \"mikir\": \"berpikir\", \"ngecharge\": \"mengisi daya\", \"minus\": \"kecacatan\",\n",
        "    \"pecah\": \"sukses\", \"petir\": \"cepat\", \"instan\": \"cepat\", \"ngabisin\": \"menghabiskan\", \"ngetop\": \"terkenal\", \"caper\": \"mencari perhatian\",\n",
        "    \"bikin stress\": \"membuat stres\", \"ngapain\": \"buat apa\", \"nobar\": \"nonton bareng\", \"galau\": \"bingung\", \"nangis\": \"menangis\", \"selow\": \"santai\",\n",
        "    \"rempong\": \"ribet\", \"kece\": \"keren\", \"seru\": \"menyenangkan\", \"bro\": \"teman\", \"cewek\": \"perempuan\", \"cowok\": \"laki-laki\", \"temen\": \"teman\",\n",
        "    \"ngumpul\": \"berkumpul\", \"mantul\": \"bagus sekali\",\"pusing\": \"bingung\", \"emosi\": \"marah\", \"salfok\": \"fokus\", \"modifikasi\": \"mengubah\",\n",
        "    \"belom\": \"belum\", \"gw\": \"saya\", \"masuk akal\": \"logis\",\"cocok\": \"sesuai\", \"kapok\": \"menyesal\", \"mentah\": \"belum matang\", \"jago\": \"terampil\",\n",
        "    \"ngikut\": \"ikut\", \"tanpa ragu\": \"yakin\", \"asik\": \"menyenangkan\", \"bos\": \"atasan\", \"nggak sabar\": \"tidak sabar\", \"nyantai\": \"santai\",\n",
        "    \"langsung\": \"segera\", \"hype\": \"terkenal\", \"begini\": \"seperti ini\", \"semangat\": \"bersemangat\", \"bodo amat\": \"tidak peduli\", \"gila\": \"hebat\",\n",
        "    \"gokil\": \"gila\", \"kocak\": \"lucu\", \"gaul\": \"populer\", \"kompak\": \"bersama\", \"untung\": \"keuntungan\", \"ngetren\": \"terkenal\", \"makin parah\": \"lebih buruk\",\n",
        "    \"mundur\": \"berhenti\", \"jangan sampe\": \"jangan sampai\", \"enak banget\": \"sangat enak\", \"gimana dong\": \"bagaimana\", \"mending\": \"lebih baik\",\n",
        "    \"bangga\": \"senang\", \"curhat\": \"cerita\", \"bengong\": \"melamun\", \"lagian\": \"lagi pula\", \"makasih\": \"terima kasih\", \"sayang\": \"cinta\",\n",
        "    \"kuat\": \"teguh\", \"liat\": \"lihat\", \"capek\": \"lelah\", \"jatuh\": \"terjatuh\", \"cocok banget\": \"sangat sesuai\", \"tahan\": \"bertahan\", \"ngaret\": \"terlambat\",\n",
        "    \"ngebut\": \"sangat cepat\", \"makin\": \"semakin\", \"kalo\": \"jika\", \"ongkir\": \"biaya pengiriman\", \"bosen\": \"bosan\", \"nyebelin\": \"menyebalkan\", \"mqu\": \"mau\",\n",
        "    \"kitq\": \"kita\", \"tqmpilan\": \"tampilan\", \"zonk\": \"gagal\", \"d\": \"di\", \"seken\": \"detik\", \"popup\": \"notifikasi\", \"cs\": \"layanan pengguna\", \"app\": \"aplikasi\",\n",
        "    \"ekspedisi\": \"layanan pengiriman\", \"COD\": \"bayar ditempat\", \"anteraja\": \"layanan pengiriman\", \"sicepat\": \"layanan pengiriman\", \"jnt\": \"layanan pengiriman\",\n",
        "    \"spx express\": \"layanan pengiriman\"\n",
        "}\n",
        "\n",
        "def fix_slangwords(text):\n",
        "    words = text.split()\n",
        "    fixed_words = []\n",
        "\n",
        "    for word in words:\n",
        "        if word.lower() in slangwords:\n",
        "            fixed_words.append(slangwords[word.lower()])\n",
        "        else:\n",
        "            fixed_words.append(word)\n",
        "\n",
        "    fixed_text = ' '.join(fixed_words)\n",
        "    return fixed_text"
      ]
    },
    {
      "cell_type": "code",
      "execution_count": null,
      "metadata": {
        "id": "DbRKHuUfgMkg"
      },
      "outputs": [],
      "source": [
        "# Function to tokenize the text\n",
        "def tokenizing_text(text):\n",
        "    return word_tokenize(text)"
      ]
    },
    {
      "cell_type": "code",
      "execution_count": null,
      "metadata": {
        "id": "doba8IyTgO92"
      },
      "outputs": [],
      "source": [
        "# Function to filter the text\n",
        "def filtering_text(tokens):\n",
        "    stop_words = set(stopwords.words('indonesian'))\n",
        "\n",
        "    custom_stopwords = {\n",
        "        'iya', 'yaa', 'gak', 'nya', 'na', 'sih', 'ku', 'di',\n",
        "        'ga', 'ya', 'gaa', 'loh', 'kah', 'woi', 'woii', 'woy',\n",
        "        'dan', 'atau', 'yang', 'tetapi', 'seperti', 'juga', 'sama',\n",
        "        'tb', 'makasih', 'thanks', 'bagus', 'jelek', 'murah',\n",
        "        'mahal', 'cepat', 'lama', 'lebih', 'sedikit', 'banyak',\n",
        "        'satu', 'dua', 'tiga', 'saya', 'kamu', 'mereka', 'kita', 'dll',\n",
        "        'aku', 'oh', 'ah', 'eh', 'bgt', 'kakak', 'bos', 'bisa', 'gimana'\n",
        "    }\n",
        "\n",
        "    filtered_tokens = [word for word in tokens if word.lower() not in stop_words and word.isalpha()]\n",
        "    return filtered_tokens"
      ]
    },
    {
      "cell_type": "code",
      "execution_count": null,
      "metadata": {
        "id": "t1qm2NaUgWg1"
      },
      "outputs": [],
      "source": [
        "# Function to stemming the text\n",
        "factory = StemmerFactory()\n",
        "stemmer = factory.create_stemmer()\n",
        "\n",
        "def stemming_text(text):\n",
        "    if not isinstance(text, str):\n",
        "        return ''\n",
        "\n",
        "    words = text.split()\n",
        "\n",
        "    stemmed_words = [stemmer.stem(word) for word in words if word.isalpha()]\n",
        "\n",
        "    return ' '.join(stemmed_words)"
      ]
    },
    {
      "cell_type": "code",
      "execution_count": null,
      "metadata": {
        "id": "rMO_pS67xSBS"
      },
      "outputs": [],
      "source": [
        "# Function to sentence the text\n",
        "def to_sentence(tokens):\n",
        "    return ' '.join(tokens)"
      ]
    },
    {
      "cell_type": "code",
      "execution_count": null,
      "metadata": {
        "id": "DIw4afjlgaxo"
      },
      "outputs": [],
      "source": [
        "# Apply the functions to the DataFrame\n",
        "def preprocessing_text(df):\n",
        "    df['cleaning_text'] = df['Review'].apply(cleaning_text)\n",
        "    df['casefolding_text'] = df['cleaning_text'].apply(casefolding_text)\n",
        "    df['fix_slangwords'] = df['casefolding_text'].apply(fix_slangwords)\n",
        "    df['tokenizing_text'] = df['fix_slangwords'].apply(tokenizing_text)\n",
        "    df['filtering_text'] = df['tokenizing_text'].apply(filtering_text)\n",
        "    df['clean_text'] = df['filtering_text'].apply(to_sentence)\n",
        "    return df\n",
        "\n",
        "df = preprocessing_text(df)"
      ]
    },
    {
      "cell_type": "code",
      "execution_count": null,
      "metadata": {
        "colab": {
          "base_uri": "https://localhost:8080/"
        },
        "id": "7zNE29zzxx9a",
        "outputId": "693f2a51-0d58-4fc6-8dfb-ae9679f45b6d"
      },
      "outputs": [
        {
          "name": "stdout",
          "output_type": "stream",
          "text": [
            "<class 'pandas.core.frame.DataFrame'>\n",
            "RangeIndex: 72000 entries, 0 to 71999\n",
            "Data columns (total 7 columns):\n",
            " #   Column            Non-Null Count  Dtype \n",
            "---  ------            --------------  ----- \n",
            " 0   Review            72000 non-null  object\n",
            " 1   cleaning_text     72000 non-null  object\n",
            " 2   casefolding_text  72000 non-null  object\n",
            " 3   fix_slangwords    72000 non-null  object\n",
            " 4   tokenizing_text   72000 non-null  object\n",
            " 5   filtering_text    72000 non-null  object\n",
            " 6   clean_text        72000 non-null  object\n",
            "dtypes: object(7)\n",
            "memory usage: 3.8+ MB\n"
          ]
        }
      ],
      "source": [
        "# Show summary information of the cleaned DataFrame\n",
        "df.info()"
      ]
    },
    {
      "cell_type": "code",
      "execution_count": null,
      "metadata": {
        "colab": {
          "base_uri": "https://localhost:8080/",
          "height": 571
        },
        "id": "oAM43Xhlxzcf",
        "outputId": "141a74bc-25ac-47d7-8bf9-53cb8675ad24"
      },
      "outputs": [
        {
          "data": {
            "application/vnd.microsoft.datawrangler.viewer.v0+json": {
              "columns": [
                {
                  "name": "index",
                  "rawType": "int64",
                  "type": "integer"
                },
                {
                  "name": "Review",
                  "rawType": "object",
                  "type": "string"
                },
                {
                  "name": "cleaning_text",
                  "rawType": "object",
                  "type": "string"
                },
                {
                  "name": "casefolding_text",
                  "rawType": "object",
                  "type": "string"
                },
                {
                  "name": "fix_slangwords",
                  "rawType": "object",
                  "type": "string"
                },
                {
                  "name": "tokenizing_text",
                  "rawType": "object",
                  "type": "unknown"
                },
                {
                  "name": "filtering_text",
                  "rawType": "object",
                  "type": "unknown"
                },
                {
                  "name": "clean_text",
                  "rawType": "object",
                  "type": "string"
                }
              ],
              "ref": "67b77bac-243b-49e7-8091-6d613b03c6a0",
              "rows": [
                [
                  "0",
                  "saran saja. harusnya cantumkan nomor kurir untuk memudahkan komunikasi saat pengantaran. karna ngak semua costumer/ pembeli itu semuanya pembayaran bayar dengan nontunai. meminimalisir yang pembayarannya memakai c.o.d untuk lebih mudah berkomunikasi apabila si costumer tidak ada d lokasi.",
                  "saran saja harusnya cantumkan nomor kurir untuk memudahkan komunikasi saat pengantaran karna ngak semua costumer pembeli itu semuanya pembayaran bayar dengan nontunai meminimalisir yang pembayarannya memakai cod untuk lebih mudah berkomunikasi apabila si costumer tidak ada d lokasi",
                  "saran saja harusnya cantumkan nomor kurir untuk memudahkan komunikasi saat pengantaran karna ngak semua costumer pembeli itu semuanya pembayaran bayar dengan nontunai meminimalisir yang pembayarannya memakai cod untuk lebih mudah berkomunikasi apabila si costumer tidak ada d lokasi",
                  "saran saja harusnya cantumkan nomor kurir untuk memudahkan komunikasi saat pengantaran karna ngak semua costumer pembeli itu semuanya pembayaran bayar dengan nontunai meminimalisir yang pembayarannya memakai cod untuk lebih mudah berkomunikasi apabila si costumer tidak ada di lokasi",
                  "['saran', 'saja', 'harusnya', 'cantumkan', 'nomor', 'kurir', 'untuk', 'memudahkan', 'komunikasi', 'saat', 'pengantaran', 'karna', 'ngak', 'semua', 'costumer', 'pembeli', 'itu', 'semuanya', 'pembayaran', 'bayar', 'dengan', 'nontunai', 'meminimalisir', 'yang', 'pembayarannya', 'memakai', 'cod', 'untuk', 'lebih', 'mudah', 'berkomunikasi', 'apabila', 'si', 'costumer', 'tidak', 'ada', 'di', 'lokasi']",
                  "['saran', 'cantumkan', 'nomor', 'kurir', 'memudahkan', 'komunikasi', 'pengantaran', 'karna', 'ngak', 'costumer', 'pembeli', 'pembayaran', 'bayar', 'nontunai', 'meminimalisir', 'pembayarannya', 'memakai', 'cod', 'mudah', 'berkomunikasi', 'si', 'costumer', 'lokasi']",
                  "saran cantumkan nomor kurir memudahkan komunikasi pengantaran karna ngak costumer pembeli pembayaran bayar nontunai meminimalisir pembayarannya memakai cod mudah berkomunikasi si costumer lokasi"
                ],
                [
                  "1",
                  "Semua sudah bagus, tapi maaf. Aplikasi atau web kadang sangat lelet. Loadingnya sangat lama bahkan tidak bisa. apalagi saat saya pake wifi. saya sudah pake di handphone dan laptop yang berbeda tetapi tetap sama memang masalah aplikasinya. mohon untuk ditingkatkan 🙏",
                  "Semua sudah bagus tapi maaf Aplikasi atau web kadang sangat lelet Loadingnya sangat lama bahkan tidak bisa apalagi saat saya pake wifi saya sudah pake di handphone dan laptop yang berbeda tetapi tetap sama memang masalah aplikasinya mohon untuk ditingkatkan",
                  "semua sudah bagus tapi maaf aplikasi atau web kadang sangat lelet loadingnya sangat lama bahkan tidak bisa apalagi saat saya pake wifi saya sudah pake di handphone dan laptop yang berbeda tetapi tetap sama memang masalah aplikasinya mohon untuk ditingkatkan",
                  "semua sudah bagus tapi maaf aplikasi atau web kadang sangat lelet loadingnya sangat lama bahkan tidak bisa apalagi saat saya pake wifi saya sudah pake di handphone dan laptop yang berbeda tetapi tetap sama memang masalah aplikasinya mohon untuk ditingkatkan",
                  "['semua', 'sudah', 'bagus', 'tapi', 'maaf', 'aplikasi', 'atau', 'web', 'kadang', 'sangat', 'lelet', 'loadingnya', 'sangat', 'lama', 'bahkan', 'tidak', 'bisa', 'apalagi', 'saat', 'saya', 'pake', 'wifi', 'saya', 'sudah', 'pake', 'di', 'handphone', 'dan', 'laptop', 'yang', 'berbeda', 'tetapi', 'tetap', 'sama', 'memang', 'masalah', 'aplikasinya', 'mohon', 'untuk', 'ditingkatkan']",
                  "['bagus', 'maaf', 'aplikasi', 'web', 'kadang', 'lelet', 'loadingnya', 'pake', 'wifi', 'pake', 'handphone', 'laptop', 'berbeda', 'aplikasinya', 'mohon', 'ditingkatkan']",
                  "bagus maaf aplikasi web kadang lelet loadingnya pake wifi pake handphone laptop berbeda aplikasinya mohon ditingkatkan"
                ],
                [
                  "2",
                  "Aplikasi ini sangat bagus dan mudah dalam penggunaannya memang banyak fitur menarik dan berbagai permaianannya. Tapi lama kelamaan aplikasinya terasah semakin berat. Saran saya cuma tolong dibuat agar tidak terlalu menghabiskan memori kalau bisa ya dibuat Mode LITE nya, untuk tambahan saya agak kecewa setelah sekian lama memakai aplikasi Shopee kenapa limit Spaylater dan Spinjam saya tidak ada peningkatan dan untuk tenor tidak ada perkembangan tetap stuck di 6bulan saja",
                  "Aplikasi ini sangat bagus dan mudah dalam penggunaannya memang banyak fitur menarik dan berbagai permaianannya Tapi lama kelamaan aplikasinya terasah semakin berat Saran saya cuma tolong dibuat agar tidak terlalu menghabiskan memori kalau bisa ya dibuat Mode LITE nya untuk tambahan saya agak kecewa setelah sekian lama memakai aplikasi Shopee kenapa limit Spaylater dan Spinjam saya tidak ada peningkatan dan untuk tenor tidak ada perkembangan tetap stuck di bulan saja",
                  "aplikasi ini sangat bagus dan mudah dalam penggunaannya memang banyak fitur menarik dan berbagai permaianannya tapi lama kelamaan aplikasinya terasah semakin berat saran saya cuma tolong dibuat agar tidak terlalu menghabiskan memori kalau bisa ya dibuat mode lite nya untuk tambahan saya agak kecewa setelah sekian lama memakai aplikasi shopee kenapa limit spaylater dan spinjam saya tidak ada peningkatan dan untuk tenor tidak ada perkembangan tetap stuck di bulan saja",
                  "aplikasi ini sangat bagus dan mudah dalam penggunaannya memang banyak fitur menarik dan berbagai permaianannya tapi lama kelamaan aplikasinya terasah semakin berat saran saya cuma tolong dibuat agar tidak terlalu menghabiskan memori apabila bisa ya dibuat mode lite nya untuk tambahan saya agak kecewa setelah sekian lama memakai aplikasi shopee kenapa limit spaylater dan spinjam saya tidak ada peningkatan dan untuk tenor tidak ada perkembangan tetap stuck di bulan saja",
                  "['aplikasi', 'ini', 'sangat', 'bagus', 'dan', 'mudah', 'dalam', 'penggunaannya', 'memang', 'banyak', 'fitur', 'menarik', 'dan', 'berbagai', 'permaianannya', 'tapi', 'lama', 'kelamaan', 'aplikasinya', 'terasah', 'semakin', 'berat', 'saran', 'saya', 'cuma', 'tolong', 'dibuat', 'agar', 'tidak', 'terlalu', 'menghabiskan', 'memori', 'apabila', 'bisa', 'ya', 'dibuat', 'mode', 'lite', 'nya', 'untuk', 'tambahan', 'saya', 'agak', 'kecewa', 'setelah', 'sekian', 'lama', 'memakai', 'aplikasi', 'shopee', 'kenapa', 'limit', 'spaylater', 'dan', 'spinjam', 'saya', 'tidak', 'ada', 'peningkatan', 'dan', 'untuk', 'tenor', 'tidak', 'ada', 'perkembangan', 'tetap', 'stuck', 'di', 'bulan', 'saja']",
                  "['aplikasi', 'bagus', 'mudah', 'penggunaannya', 'fitur', 'menarik', 'permaianannya', 'aplikasinya', 'terasah', 'berat', 'saran', 'tolong', 'menghabiskan', 'memori', 'ya', 'mode', 'lite', 'nya', 'tambahan', 'kecewa', 'sekian', 'memakai', 'aplikasi', 'shopee', 'limit', 'spaylater', 'spinjam', 'peningkatan', 'tenor', 'perkembangan', 'stuck']",
                  "aplikasi bagus mudah penggunaannya fitur menarik permaianannya aplikasinya terasah berat saran tolong menghabiskan memori ya mode lite nya tambahan kecewa sekian memakai aplikasi shopee limit spaylater spinjam peningkatan tenor perkembangan stuck"
                ],
                [
                  "3",
                  "aplikasi udah gk berat lagi ,sudah lancar tetapi ada satu yang kurang suka,ketika baru buka apk shopee langsung menuju ke bagian live/video ,karna ketika masuk langsung ngelag kdng keluar sendiri. tolong benerin ya ,untuk apk nya saya suka sekali bangak diskonan😀 dan layanannya juga lengkap banget ,ketika pengiriman tertunda,lalu chat masalah di cs ,waaw langsung diutamain paket kita ,tetapi sekarang hihi biaya layanan pas beli produk sekarang mulai naik 2000 kdng 3000 😅",
                  "aplikasi udah gk berat lagi sudah lancar tetapi ada satu yang kurang sukaketika baru buka apk shopee langsung menuju ke bagian livevideo karna ketika masuk langsung ngelag kdng keluar sendiri tolong benerin ya untuk apk nya saya suka sekali bangak diskonan dan layanannya juga lengkap banget ketika pengiriman tertundalalu chat masalah di cs waaw langsung diutamain paket kita tetapi sekarang hihi biaya layanan pas beli produk sekarang mulai naik kdng",
                  "aplikasi udah gk berat lagi sudah lancar tetapi ada satu yang kurang sukaketika baru buka apk shopee langsung menuju ke bagian livevideo karna ketika masuk langsung ngelag kdng keluar sendiri tolong benerin ya untuk apk nya saya suka sekali bangak diskonan dan layanannya juga lengkap banget ketika pengiriman tertundalalu chat masalah di cs waaw langsung diutamain paket kita tetapi sekarang hihi biaya layanan pas beli produk sekarang mulai naik kdng",
                  "aplikasi udah gk berat lagi sudah lancar tetapi ada satu yang kurang sukaketika baru buka apk shopee segera menuju ke bagian livevideo karna ketika masuk segera ngelag kdng keluar sendiri tolong memperbaiki ya untuk apk nya saya suka sekali bangak diskonan dan layanannya juga lengkap banget ketika pengiriman tertundalalu chat masalah di layanan pengguna waaw segera diutamain paket kita tetapi sekarang hihi biaya layanan tepat beli produk sekarang mulai naik kdng",
                  "['aplikasi', 'udah', 'gk', 'berat', 'lagi', 'sudah', 'lancar', 'tetapi', 'ada', 'satu', 'yang', 'kurang', 'sukaketika', 'baru', 'buka', 'apk', 'shopee', 'segera', 'menuju', 'ke', 'bagian', 'livevideo', 'karna', 'ketika', 'masuk', 'segera', 'ngelag', 'kdng', 'keluar', 'sendiri', 'tolong', 'memperbaiki', 'ya', 'untuk', 'apk', 'nya', 'saya', 'suka', 'sekali', 'bangak', 'diskonan', 'dan', 'layanannya', 'juga', 'lengkap', 'banget', 'ketika', 'pengiriman', 'tertundalalu', 'chat', 'masalah', 'di', 'layanan', 'pengguna', 'waaw', 'segera', 'diutamain', 'paket', 'kita', 'tetapi', 'sekarang', 'hihi', 'biaya', 'layanan', 'tepat', 'beli', 'produk', 'sekarang', 'mulai', 'naik', 'kdng']",
                  "['aplikasi', 'udah', 'gk', 'berat', 'lancar', 'sukaketika', 'buka', 'apk', 'shopee', 'livevideo', 'karna', 'masuk', 'ngelag', 'kdng', 'tolong', 'memperbaiki', 'ya', 'apk', 'nya', 'suka', 'bangak', 'diskonan', 'layanannya', 'lengkap', 'banget', 'pengiriman', 'tertundalalu', 'chat', 'layanan', 'pengguna', 'waaw', 'diutamain', 'paket', 'hihi', 'biaya', 'layanan', 'beli', 'produk', 'kdng']",
                  "aplikasi udah gk berat lancar sukaketika buka apk shopee livevideo karna masuk ngelag kdng tolong memperbaiki ya apk nya suka bangak diskonan layanannya lengkap banget pengiriman tertundalalu chat layanan pengguna waaw diutamain paket hihi biaya layanan beli produk kdng"
                ],
                [
                  "4",
                  "selama belanja disini Alhamdulillah sih aman2 aja,cara pengembalian dana jg mudah cuma lama kelamaan terlalu bnyk biaya potongan klo berbelanja,.biaya penanganan lah,biaya ongkir yg lumayan tinggi,blm lagi bungan paylaternya terkadang jg lumayan tinggi padahal selama pakai shoppe sya tdk pernah nyicil pembayaran apa lagi nunggak,tolonglah biaya2 yg tdk penting serta bunga paylater ataupun biaya ongkir dikurangi supaya ttp menjadi pelanggan setia",
                  "selama belanja disini Alhamdulillah sih aman ajacara pengembalian dana jg mudah cuma lama kelamaan terlalu bnyk biaya potongan klo berbelanjabiaya penanganan lahbiaya ongkir yg lumayan tinggiblm lagi bungan paylaternya terkadang jg lumayan tinggi padahal selama pakai shoppe sya tdk pernah nyicil pembayaran apa lagi nunggaktolonglah biaya yg tdk penting serta bunga paylater ataupun biaya ongkir dikurangi supaya ttp menjadi pelanggan setia",
                  "selama belanja disini alhamdulillah sih aman ajacara pengembalian dana jg mudah cuma lama kelamaan terlalu bnyk biaya potongan klo berbelanjabiaya penanganan lahbiaya ongkir yg lumayan tinggiblm lagi bungan paylaternya terkadang jg lumayan tinggi padahal selama pakai shoppe sya tdk pernah nyicil pembayaran apa lagi nunggaktolonglah biaya yg tdk penting serta bunga paylater ataupun biaya ongkir dikurangi supaya ttp menjadi pelanggan setia",
                  "selama belanja disini alhamdulillah ya aman ajacara pengembalian dana jg mudah cuma lama kelamaan terlalu bnyk biaya potongan klo berbelanjabiaya penanganan lahbiaya biaya pengiriman yang lumayan tinggiblm lagi bungan paylaternya terkadang jg lumayan tinggi padahal selama pakai shoppe sya tdk pernah nyicil pembayaran apa lagi nunggaktolonglah biaya yang tdk penting serta bunga paylater ataupun biaya biaya pengiriman dikurangi supaya ttp menjadi pelanggan setia",
                  "['selama', 'belanja', 'disini', 'alhamdulillah', 'ya', 'aman', 'ajacara', 'pengembalian', 'dana', 'jg', 'mudah', 'cuma', 'lama', 'kelamaan', 'terlalu', 'bnyk', 'biaya', 'potongan', 'klo', 'berbelanjabiaya', 'penanganan', 'lahbiaya', 'biaya', 'pengiriman', 'yang', 'lumayan', 'tinggiblm', 'lagi', 'bungan', 'paylaternya', 'terkadang', 'jg', 'lumayan', 'tinggi', 'padahal', 'selama', 'pakai', 'shoppe', 'sya', 'tdk', 'pernah', 'nyicil', 'pembayaran', 'apa', 'lagi', 'nunggaktolonglah', 'biaya', 'yang', 'tdk', 'penting', 'serta', 'bunga', 'paylater', 'ataupun', 'biaya', 'biaya', 'pengiriman', 'dikurangi', 'supaya', 'ttp', 'menjadi', 'pelanggan', 'setia']",
                  "['belanja', 'alhamdulillah', 'ya', 'aman', 'ajacara', 'pengembalian', 'dana', 'jg', 'mudah', 'bnyk', 'biaya', 'potongan', 'klo', 'berbelanjabiaya', 'penanganan', 'lahbiaya', 'biaya', 'pengiriman', 'lumayan', 'tinggiblm', 'bungan', 'paylaternya', 'terkadang', 'jg', 'lumayan', 'pakai', 'shoppe', 'sya', 'tdk', 'nyicil', 'pembayaran', 'nunggaktolonglah', 'biaya', 'tdk', 'bunga', 'paylater', 'biaya', 'biaya', 'pengiriman', 'dikurangi', 'ttp', 'pelanggan', 'setia']",
                  "belanja alhamdulillah ya aman ajacara pengembalian dana jg mudah bnyk biaya potongan klo berbelanjabiaya penanganan lahbiaya biaya pengiriman lumayan tinggiblm bungan paylaternya terkadang jg lumayan pakai shoppe sya tdk nyicil pembayaran nunggaktolonglah biaya tdk bunga paylater biaya biaya pengiriman dikurangi ttp pelanggan setia"
                ]
              ],
              "shape": {
                "columns": 7,
                "rows": 5
              }
            },
            "text/html": [
              "<div>\n",
              "<style scoped>\n",
              "    .dataframe tbody tr th:only-of-type {\n",
              "        vertical-align: middle;\n",
              "    }\n",
              "\n",
              "    .dataframe tbody tr th {\n",
              "        vertical-align: top;\n",
              "    }\n",
              "\n",
              "    .dataframe thead th {\n",
              "        text-align: right;\n",
              "    }\n",
              "</style>\n",
              "<table border=\"1\" class=\"dataframe\">\n",
              "  <thead>\n",
              "    <tr style=\"text-align: right;\">\n",
              "      <th></th>\n",
              "      <th>Review</th>\n",
              "      <th>cleaning_text</th>\n",
              "      <th>casefolding_text</th>\n",
              "      <th>fix_slangwords</th>\n",
              "      <th>tokenizing_text</th>\n",
              "      <th>filtering_text</th>\n",
              "      <th>clean_text</th>\n",
              "    </tr>\n",
              "  </thead>\n",
              "  <tbody>\n",
              "    <tr>\n",
              "      <th>0</th>\n",
              "      <td>saran saja. harusnya cantumkan nomor kurir unt...</td>\n",
              "      <td>saran saja harusnya cantumkan nomor kurir untu...</td>\n",
              "      <td>saran saja harusnya cantumkan nomor kurir untu...</td>\n",
              "      <td>saran saja harusnya cantumkan nomor kurir untu...</td>\n",
              "      <td>[saran, saja, harusnya, cantumkan, nomor, kuri...</td>\n",
              "      <td>[saran, cantumkan, nomor, kurir, memudahkan, k...</td>\n",
              "      <td>saran cantumkan nomor kurir memudahkan komunik...</td>\n",
              "    </tr>\n",
              "    <tr>\n",
              "      <th>1</th>\n",
              "      <td>Semua sudah bagus, tapi maaf. Aplikasi atau we...</td>\n",
              "      <td>Semua sudah bagus tapi maaf Aplikasi atau web ...</td>\n",
              "      <td>semua sudah bagus tapi maaf aplikasi atau web ...</td>\n",
              "      <td>semua sudah bagus tapi maaf aplikasi atau web ...</td>\n",
              "      <td>[semua, sudah, bagus, tapi, maaf, aplikasi, at...</td>\n",
              "      <td>[bagus, maaf, aplikasi, web, kadang, lelet, lo...</td>\n",
              "      <td>bagus maaf aplikasi web kadang lelet loadingny...</td>\n",
              "    </tr>\n",
              "    <tr>\n",
              "      <th>2</th>\n",
              "      <td>Aplikasi ini sangat bagus dan mudah dalam peng...</td>\n",
              "      <td>Aplikasi ini sangat bagus dan mudah dalam peng...</td>\n",
              "      <td>aplikasi ini sangat bagus dan mudah dalam peng...</td>\n",
              "      <td>aplikasi ini sangat bagus dan mudah dalam peng...</td>\n",
              "      <td>[aplikasi, ini, sangat, bagus, dan, mudah, dal...</td>\n",
              "      <td>[aplikasi, bagus, mudah, penggunaannya, fitur,...</td>\n",
              "      <td>aplikasi bagus mudah penggunaannya fitur menar...</td>\n",
              "    </tr>\n",
              "    <tr>\n",
              "      <th>3</th>\n",
              "      <td>aplikasi udah gk berat lagi ,sudah lancar teta...</td>\n",
              "      <td>aplikasi udah gk berat lagi sudah lancar tetap...</td>\n",
              "      <td>aplikasi udah gk berat lagi sudah lancar tetap...</td>\n",
              "      <td>aplikasi udah gk berat lagi sudah lancar tetap...</td>\n",
              "      <td>[aplikasi, udah, gk, berat, lagi, sudah, lanca...</td>\n",
              "      <td>[aplikasi, udah, gk, berat, lancar, sukaketika...</td>\n",
              "      <td>aplikasi udah gk berat lancar sukaketika buka ...</td>\n",
              "    </tr>\n",
              "    <tr>\n",
              "      <th>4</th>\n",
              "      <td>selama belanja disini Alhamdulillah sih aman2 ...</td>\n",
              "      <td>selama belanja disini Alhamdulillah sih aman a...</td>\n",
              "      <td>selama belanja disini alhamdulillah sih aman a...</td>\n",
              "      <td>selama belanja disini alhamdulillah ya aman aj...</td>\n",
              "      <td>[selama, belanja, disini, alhamdulillah, ya, a...</td>\n",
              "      <td>[belanja, alhamdulillah, ya, aman, ajacara, pe...</td>\n",
              "      <td>belanja alhamdulillah ya aman ajacara pengemba...</td>\n",
              "    </tr>\n",
              "  </tbody>\n",
              "</table>\n",
              "</div>"
            ],
            "text/plain": [
              "                                              Review  \\\n",
              "0  saran saja. harusnya cantumkan nomor kurir unt...   \n",
              "1  Semua sudah bagus, tapi maaf. Aplikasi atau we...   \n",
              "2  Aplikasi ini sangat bagus dan mudah dalam peng...   \n",
              "3  aplikasi udah gk berat lagi ,sudah lancar teta...   \n",
              "4  selama belanja disini Alhamdulillah sih aman2 ...   \n",
              "\n",
              "                                       cleaning_text  \\\n",
              "0  saran saja harusnya cantumkan nomor kurir untu...   \n",
              "1  Semua sudah bagus tapi maaf Aplikasi atau web ...   \n",
              "2  Aplikasi ini sangat bagus dan mudah dalam peng...   \n",
              "3  aplikasi udah gk berat lagi sudah lancar tetap...   \n",
              "4  selama belanja disini Alhamdulillah sih aman a...   \n",
              "\n",
              "                                    casefolding_text  \\\n",
              "0  saran saja harusnya cantumkan nomor kurir untu...   \n",
              "1  semua sudah bagus tapi maaf aplikasi atau web ...   \n",
              "2  aplikasi ini sangat bagus dan mudah dalam peng...   \n",
              "3  aplikasi udah gk berat lagi sudah lancar tetap...   \n",
              "4  selama belanja disini alhamdulillah sih aman a...   \n",
              "\n",
              "                                      fix_slangwords  \\\n",
              "0  saran saja harusnya cantumkan nomor kurir untu...   \n",
              "1  semua sudah bagus tapi maaf aplikasi atau web ...   \n",
              "2  aplikasi ini sangat bagus dan mudah dalam peng...   \n",
              "3  aplikasi udah gk berat lagi sudah lancar tetap...   \n",
              "4  selama belanja disini alhamdulillah ya aman aj...   \n",
              "\n",
              "                                     tokenizing_text  \\\n",
              "0  [saran, saja, harusnya, cantumkan, nomor, kuri...   \n",
              "1  [semua, sudah, bagus, tapi, maaf, aplikasi, at...   \n",
              "2  [aplikasi, ini, sangat, bagus, dan, mudah, dal...   \n",
              "3  [aplikasi, udah, gk, berat, lagi, sudah, lanca...   \n",
              "4  [selama, belanja, disini, alhamdulillah, ya, a...   \n",
              "\n",
              "                                      filtering_text  \\\n",
              "0  [saran, cantumkan, nomor, kurir, memudahkan, k...   \n",
              "1  [bagus, maaf, aplikasi, web, kadang, lelet, lo...   \n",
              "2  [aplikasi, bagus, mudah, penggunaannya, fitur,...   \n",
              "3  [aplikasi, udah, gk, berat, lancar, sukaketika...   \n",
              "4  [belanja, alhamdulillah, ya, aman, ajacara, pe...   \n",
              "\n",
              "                                          clean_text  \n",
              "0  saran cantumkan nomor kurir memudahkan komunik...  \n",
              "1  bagus maaf aplikasi web kadang lelet loadingny...  \n",
              "2  aplikasi bagus mudah penggunaannya fitur menar...  \n",
              "3  aplikasi udah gk berat lancar sukaketika buka ...  \n",
              "4  belanja alhamdulillah ya aman ajacara pengemba...  "
            ]
          },
          "execution_count": 15,
          "metadata": {},
          "output_type": "execute_result"
        }
      ],
      "source": [
        "# Display the first five rows of the DataFrame\n",
        "df.head()"
      ]
    },
    {
      "cell_type": "markdown",
      "metadata": {
        "id": "JvETpb6nvZ3D"
      },
      "source": [
        "# Data Transformation"
      ]
    },
    {
      "cell_type": "code",
      "execution_count": null,
      "metadata": {
        "id": "fe0xI7-LD720"
      },
      "outputs": [],
      "source": [
        "# Lexicon Positive\n",
        "lexicon_positive = {}\n",
        "response = requests.get('https://raw.githubusercontent.com/angelmetanosaa/dataset/main/lexicon_positive.csv')\n",
        "\n",
        "if response.status_code == 200:\n",
        "    reader = csv.reader(StringIO(response.text), delimiter=',')\n",
        "    for row in reader:\n",
        "        lexicon_positive[row[0]] = int(row[1])\n",
        "else:\n",
        "    print(\"Failed to fetch positive lexicon data\")"
      ]
    },
    {
      "cell_type": "code",
      "execution_count": null,
      "metadata": {
        "id": "l4P-uNLpEiTj"
      },
      "outputs": [],
      "source": [
        "# Lexicon negative\n",
        "lexicon_negative = {}\n",
        "response = requests.get('https://raw.githubusercontent.com/angelmetanosaa/dataset/main/lexicon_negative.csv')\n",
        "\n",
        "if response.status_code == 200:\n",
        "    reader = csv.reader(StringIO(response.text), delimiter=',')\n",
        "    for row in reader:\n",
        "        lexicon_negative[row[0]] = int(row[1])\n",
        "else:\n",
        "    print(\"Failed to fetch negative lexicon data\")"
      ]
    },
    {
      "cell_type": "code",
      "execution_count": null,
      "metadata": {
        "id": "tlQ-puNUghNN"
      },
      "outputs": [],
      "source": [
        "# Calculate sentiment score and polarity from word list\n",
        "def sentiment_analysis_lexicon_indonesia(text):\n",
        "    score = 0\n",
        "\n",
        "    for word in text:\n",
        "        if word in lexicon_positive:\n",
        "            score += lexicon_positive[word]\n",
        "        if word in lexicon_negative:\n",
        "            score += lexicon_negative[word]\n",
        "\n",
        "    if score > 0:\n",
        "        polarity = 'positif'\n",
        "    elif score < 0:\n",
        "        polarity = 'negatif'\n",
        "    else:\n",
        "        polarity = 'netral'\n",
        "\n",
        "    return score, polarity"
      ]
    },
    {
      "cell_type": "code",
      "execution_count": null,
      "metadata": {
        "colab": {
          "base_uri": "https://localhost:8080/"
        },
        "id": "KTg501wKgi-J",
        "outputId": "8b56cd8c-edc5-4838-b8ff-25b40ed8300c"
      },
      "outputs": [
        {
          "name": "stdout",
          "output_type": "stream",
          "text": [
            "polarity\n",
            "positif    34152\n",
            "negatif    33513\n",
            "netral      4335\n",
            "Name: count, dtype: int64\n"
          ]
        }
      ],
      "source": [
        "# Apply sentiment analysis and add results to new columns\n",
        "results = df['filtering_text'].apply(sentiment_analysis_lexicon_indonesia)\n",
        "\n",
        "results = list(zip(*results))\n",
        "\n",
        "df['polarity_score'] = results[0]\n",
        "df['polarity'] = results[1]\n",
        "\n",
        "print(df['polarity'].value_counts())"
      ]
    },
    {
      "cell_type": "code",
      "execution_count": null,
      "metadata": {
        "colab": {
          "base_uri": "https://localhost:8080/",
          "height": 523
        },
        "id": "O5RPlsApHYOx",
        "outputId": "3d3b4711-c21c-4937-c577-184a33ef4f53"
      },
      "outputs": [
        {
          "data": {
            "image/png": "[encoded data removed]",
            "text/plain": [
              "<Figure size 800x600 with 1 Axes>"
            ]
          },
          "metadata": {},
          "output_type": "display_data"
        }
      ],
      "source": [
        "# Visualize the sentiment polarity\n",
        "polarity_counts = df['polarity'].value_counts()\n",
        "\n",
        "labels = polarity_counts.index\n",
        "sizes = polarity_counts.values\n",
        "\n",
        "colors = ['#9acd32' if label == 'positif' else\n",
        "          '#66b032' if label == 'negatif' else\n",
        "          '#b0e57c' for label in labels]\n",
        "\n",
        "plt.figure(figsize=(8, 6))\n",
        "plt.pie(sizes, labels=labels, colors=colors, autopct='%1.1f%%', startangle=140)\n",
        "plt.title('Sentiment Polarity on Review Data', fontsize=16)\n",
        "plt.axis('equal')\n",
        "plt.show()"
      ]
    },
    {
      "cell_type": "markdown",
      "metadata": {
        "id": "pL5fqT0Yvi_9"
      },
      "source": [
        "# Data Splitting"
      ]
    },
    {
      "cell_type": "code",
      "execution_count": null,
      "metadata": {
        "id": "r_sj7BEzvnM9"
      },
      "outputs": [],
      "source": [
        "# Data preparation and TF-IDF feature extraction for Machine Learning\n",
        "df['label'] = df['polarity'].astype('category').cat.codes\n",
        "y = df['label'].values\n",
        "X = df['clean_text'].values\n",
        "\n",
        "X_train, X_test, y_train, y_test = train_test_split(X, y, test_size=0.3, random_state=42)\n",
        "\n",
        "tfidf = TfidfVectorizer(max_features=5000)\n",
        "X_train_tfidf = tfidf.fit_transform(X_train)\n",
        "X_test_tfidf = tfidf.transform(X_test)"
      ]
    },
    {
      "cell_type": "code",
      "execution_count": null,
      "metadata": {
        "id": "dk86xJC3hjPb"
      },
      "outputs": [],
      "source": [
        "# Data Preparation for Deep Learning\n",
        "y_dl = pd.get_dummies(df['polarity']).values\n",
        "X_dl = df['clean_text'].values\n",
        "\n",
        "tokenizer = Tokenizer(num_words=5000)\n",
        "tokenizer.fit_on_texts(X_dl)\n",
        "sequences = tokenizer.texts_to_sequences(X_dl)\n",
        "max_length = 100\n",
        "padded_sequences = pad_sequences(sequences, maxlen=max_length)\n",
        "\n",
        "X_dl_train, X_dl_test, y_dl_train, y_dl_test = train_test_split(padded_sequences, y_dl, test_size=0.2, random_state=42)"
      ]
    },
    {
      "cell_type": "markdown",
      "metadata": {
        "id": "fpZKxosavrMh"
      },
      "source": [
        "# Training"
      ]
    },
    {
      "cell_type": "markdown",
      "metadata": {
        "id": "UdIL_Ip1nG0X"
      },
      "source": [
        "#### Logistic Regression (LR)"
      ]
    },
    {
      "cell_type": "code",
      "execution_count": null,
      "metadata": {
        "id": "4gy0qxIWvta_"
      },
      "outputs": [],
      "source": [
        "# Logistic Regression with TF-IDF for sentiment analysis\n",
        "lr_model = LogisticRegression(max_iter=1000)\n",
        "lr_model.fit(X_train_tfidf, y_train)\n",
        "\n",
        "y_train_pred_lr = lr_model.predict(X_train_tfidf)\n",
        "y_test_pred_lr = lr_model.predict(X_test_tfidf)"
      ]
    },
    {
      "cell_type": "code",
      "execution_count": null,
      "metadata": {
        "colab": {
          "base_uri": "https://localhost:8080/"
        },
        "id": "S5QXzJlcnPwz",
        "outputId": "252034eb-a390-4d98-ad5b-fb37c83742f2"
      },
      "outputs": [
        {
          "name": "stdout",
          "output_type": "stream",
          "text": [
            "Logistic regression Training Accuracy: 0.9220\n",
            "Logistic regression Testing Accuracy: 0.9045\n",
            "\n",
            "Classification Report - Testing Set:\n",
            "              precision    recall  f1-score   support\n",
            "\n",
            "     positif       0.89      0.96      0.92      9969\n",
            "     negatif       0.83      0.07      0.13      1301\n",
            "      netral       0.92      0.96      0.94     10330\n",
            "\n",
            "    accuracy                           0.90     21600\n",
            "   macro avg       0.88      0.66      0.67     21600\n",
            "weighted avg       0.90      0.90      0.88     21600\n",
            "\n"
          ]
        }
      ],
      "source": [
        "# Evaluate the model\n",
        "print(f\"Logistic regression Training Accuracy: {accuracy_score(y_train, y_train_pred_lr):.4f}\")\n",
        "print(f\"Logistic regression Testing Accuracy: {accuracy_score(y_test, y_test_pred_lr):.4f}\")\n",
        "\n",
        "print(\"\\nClassification Report - Testing Set:\")\n",
        "print(classification_report(y_test, y_test_pred_lr, target_names=df['polarity'].astype(str).unique()))"
      ]
    },
    {
      "cell_type": "markdown",
      "metadata": {
        "id": "Yq6wIPTOnXH2"
      },
      "source": [
        "#### Support Vector Machine (SVM)"
      ]
    },
    {
      "cell_type": "code",
      "execution_count": null,
      "metadata": {
        "id": "pzR4NdSImDiP"
      },
      "outputs": [],
      "source": [
        "# Support Vector Machine (SVM) with TF-IDF for sentiment analysis\n",
        "svm_model = SVC(kernel='linear')\n",
        "svm_model.fit(X_train_tfidf, y_train)\n",
        "\n",
        "y_train_pred_svm = svm_model.predict(X_train_tfidf)\n",
        "y_test_pred_svm = svm_model.predict(X_test_tfidf)"
      ]
    },
    {
      "cell_type": "code",
      "execution_count": null,
      "metadata": {
        "colab": {
          "base_uri": "https://localhost:8080/"
        },
        "id": "xO_6X8ddnTq2",
        "outputId": "747db7f4-97eb-408f-9f7c-c089bc04fb53"
      },
      "outputs": [
        {
          "name": "stdout",
          "output_type": "stream",
          "text": [
            "Support Vector Machine - Training Accuracy: 0.9242\n",
            "Support Vector Machine - Testing Accuracy: 0.9061\n",
            "\n",
            "Classification Report - Testing Set:\n",
            "              precision    recall  f1-score   support\n",
            "\n",
            "     positif       0.90      0.96      0.93      9969\n",
            "     negatif       0.77      0.05      0.10      1301\n",
            "      netral       0.91      0.96      0.94     10330\n",
            "\n",
            "    accuracy                           0.91     21600\n",
            "   macro avg       0.86      0.66      0.65     21600\n",
            "weighted avg       0.90      0.91      0.88     21600\n",
            "\n"
          ]
        }
      ],
      "source": [
        "# Evaluate the model\n",
        "print(f\"Support Vector Machine - Training Accuracy: {accuracy_score(y_train, y_train_pred_svm):.4f}\")\n",
        "print(f\"Support Vector Machine - Testing Accuracy: {accuracy_score(y_test, y_test_pred_svm):.4f}\")\n",
        "\n",
        "print(\"\\nClassification Report - Testing Set:\")\n",
        "print(classification_report(y_test, y_test_pred_svm, target_names=df['polarity'].astype(str).unique()))"
      ]
    },
    {
      "cell_type": "markdown",
      "metadata": {
        "id": "gvEOcYSXnwfq"
      },
      "source": [
        "## Deep Learning"
      ]
    },
    {
      "cell_type": "code",
      "execution_count": null,
      "metadata": {},
      "outputs": [],
      "source": [
        "# Create callbacks\n",
        "class AccuracyCallback(tf.keras.callbacks.Callback):\n",
        "    def on_epoch_end(self, epoch, logs=None):\n",
        "        acc = logs.get('accuracy')\n",
        "        val_acc = logs.get('val_accuracy')\n",
        "        if acc and val_acc and acc > 0.92 and val_acc > 0.92:\n",
        "            print(f\"\\nAkurasi dan val_akurasi > 92% pada epoch {epoch+1}. Training dihentikan.\")\n",
        "            self.model.stop_training = True"
      ]
    },
    {
      "cell_type": "markdown",
      "metadata": {
        "id": "YSuCu_V_ne2E"
      },
      "source": [
        "#### Long Short Term Memory (LSTM)"
      ]
    },
    {
      "cell_type": "code",
      "execution_count": null,
      "metadata": {},
      "outputs": [],
      "source": [
        "# LSTM model for sentiment analysis\n",
        "model = Sequential([\n",
        "    Embedding(input_dim=5000, output_dim=128, input_length=max_length),\n",
        "    LSTM(128, return_sequences=True, dropout=0.2, recurrent_dropout=0.2),\n",
        "    LSTM(64, dropout=0.2, recurrent_dropout=0.2),\n",
        "    Dense(64, activation='relu'),\n",
        "    BatchNormalization(),\n",
        "    Dropout(0.5),\n",
        "    Dense(3, activation='softmax')\n",
        "])\n",
        "\n",
        "model.compile(\n",
        "    loss='categorical_crossentropy',\n",
        "    optimizer='adam',\n",
        "    metrics=['accuracy']\n",
        ")"
      ]
    },
    {
      "cell_type": "code",
      "execution_count": null,
      "metadata": {},
      "outputs": [
        {
          "name": "stdout",
          "output_type": "stream",
          "text": [
            "Epoch 1/50\n",
            "\u001b[1m900/900\u001b[0m \u001b[32m━━━━━━━━━━━━━━━━━━━━\u001b[0m\u001b[37m\u001b[0m \u001b[1m188s\u001b[0m 205ms/step - accuracy: 0.7336 - loss: 0.6380 - val_accuracy: 0.8926 - val_loss: 0.2982\n",
            "Epoch 2/50\n",
            "\u001b[1m900/900\u001b[0m \u001b[32m━━━━━━━━━━━━━━━━━━━━\u001b[0m\u001b[37m\u001b[0m \u001b[1m177s\u001b[0m 196ms/step - accuracy: 0.8938 - loss: 0.2922 - val_accuracy: 0.9060 - val_loss: 0.2573\n",
            "Epoch 3/50\n",
            "\u001b[1m900/900\u001b[0m \u001b[32m━━━━━━━━━━━━━━━━━━━━\u001b[0m\u001b[37m\u001b[0m \u001b[1m193s\u001b[0m 215ms/step - accuracy: 0.9144 - loss: 0.2423 - val_accuracy: 0.9162 - val_loss: 0.2356\n",
            "Epoch 4/50\n",
            "\u001b[1m900/900\u001b[0m \u001b[32m━━━━━━━━━━━━━━━━━━━━\u001b[0m\u001b[37m\u001b[0m \u001b[1m196s\u001b[0m 217ms/step - accuracy: 0.9285 - loss: 0.2018 - val_accuracy: 0.9084 - val_loss: 0.2699\n",
            "Epoch 5/50\n",
            "\u001b[1m900/900\u001b[0m \u001b[32m━━━━━━━━━━━━━━━━━━━━\u001b[0m\u001b[37m\u001b[0m \u001b[1m0s\u001b[0m 202ms/step - accuracy: 0.9358 - loss: 0.1810\n",
            "Akurasi dan val_akurasi > 92% pada epoch 5. Training dihentikan.\n",
            "\u001b[1m900/900\u001b[0m \u001b[32m━━━━━━━━━━━━━━━━━━━━\u001b[0m\u001b[37m\u001b[0m \u001b[1m191s\u001b[0m 212ms/step - accuracy: 0.9358 - loss: 0.1810 - val_accuracy: 0.9233 - val_loss: 0.2255\n"
          ]
        }
      ],
      "source": [
        "# Evaluate the model\n",
        "history = model.fit(\n",
        "    X_dl_train, y_dl_train,\n",
        "    validation_data=(X_dl_test, y_dl_test),\n",
        "    epochs=50,\n",
        "    batch_size=64,\n",
        "    callbacks=[AccuracyCallback()],\n",
        "    verbose=1\n",
        ")"
      ]
    },
    {
      "cell_type": "markdown",
      "metadata": {
        "id": "hcV7f5LHnjY7"
      },
      "source": [
        "#### Convolutional Neural Network (CNN)"
      ]
    },
    {
      "cell_type": "code",
      "execution_count": null,
      "metadata": {},
      "outputs": [],
      "source": [
        "# CNN model for sentiment analysis\n",
        "model = Sequential([\n",
        "    Embedding(input_dim=5000, output_dim=128, input_length=max_length),\n",
        "    Conv1D(filters=128, kernel_size=5, activation='relu'),\n",
        "    GlobalMaxPooling1D(),\n",
        "    Dense(64, activation='relu'),\n",
        "    BatchNormalization(),\n",
        "    Dropout(0.5),\n",
        "    Dense(3, activation='softmax')\n",
        "])\n",
        "\n",
        "model.compile(\n",
        "    loss='categorical_crossentropy',\n",
        "    optimizer='adam',\n",
        "    metrics=['accuracy']\n",
        ")"
      ]
    },
    {
      "cell_type": "code",
      "execution_count": null,
      "metadata": {},
      "outputs": [
        {
          "name": "stdout",
          "output_type": "stream",
          "text": [
            "Epoch 1/50\n",
            "\u001b[1m900/900\u001b[0m \u001b[32m━━━━━━━━━━━━━━━━━━━━\u001b[0m\u001b[37m\u001b[0m \u001b[1m17s\u001b[0m 17ms/step - accuracy: 0.7380 - loss: 0.6281 - val_accuracy: 0.8534 - val_loss: 0.3877\n",
            "Epoch 2/50\n",
            "\u001b[1m900/900\u001b[0m \u001b[32m━━━━━━━━━━━━━━━━━━━━\u001b[0m\u001b[37m\u001b[0m \u001b[1m15s\u001b[0m 17ms/step - accuracy: 0.9003 - loss: 0.2855 - val_accuracy: 0.8712 - val_loss: 0.3577\n",
            "Epoch 3/50\n",
            "\u001b[1m900/900\u001b[0m \u001b[32m━━━━━━━━━━━━━━━━━━━━\u001b[0m\u001b[37m\u001b[0m \u001b[1m15s\u001b[0m 17ms/step - accuracy: 0.9249 - loss: 0.2161 - val_accuracy: 0.8732 - val_loss: 0.3820\n",
            "Epoch 4/50\n",
            "\u001b[1m900/900\u001b[0m \u001b[32m━━━━━━━━━━━━━━━━━━━━\u001b[0m\u001b[37m\u001b[0m \u001b[1m15s\u001b[0m 16ms/step - accuracy: 0.9400 - loss: 0.1737 - val_accuracy: 0.8765 - val_loss: 0.3974\n",
            "Epoch 5/50\n",
            "\u001b[1m900/900\u001b[0m \u001b[32m━━━━━━━━━━━━━━━━━━━━\u001b[0m\u001b[37m\u001b[0m \u001b[1m15s\u001b[0m 17ms/step - accuracy: 0.9503 - loss: 0.1420 - val_accuracy: 0.8813 - val_loss: 0.4237\n",
            "Epoch 6/50\n",
            "\u001b[1m900/900\u001b[0m \u001b[32m━━━━━━━━━━━━━━━━━━━━\u001b[0m\u001b[37m\u001b[0m \u001b[1m15s\u001b[0m 17ms/step - accuracy: 0.9644 - loss: 0.1005 - val_accuracy: 0.8687 - val_loss: 0.4775\n",
            "Epoch 7/50\n",
            "\u001b[1m900/900\u001b[0m \u001b[32m━━━━━━━━━━━━━━━━━━━━\u001b[0m\u001b[37m\u001b[0m \u001b[1m15s\u001b[0m 17ms/step - accuracy: 0.9734 - loss: 0.0785 - val_accuracy: 0.8693 - val_loss: 0.4503\n",
            "Epoch 8/50\n",
            "\u001b[1m900/900\u001b[0m \u001b[32m━━━━━━━━━━━━━━━━━━━━\u001b[0m\u001b[37m\u001b[0m \u001b[1m15s\u001b[0m 17ms/step - accuracy: 0.9792 - loss: 0.0647 - val_accuracy: 0.8769 - val_loss: 0.4960\n",
            "Epoch 9/50\n",
            "\u001b[1m900/900\u001b[0m \u001b[32m━━━━━━━━━━━━━━━━━━━━\u001b[0m\u001b[37m\u001b[0m \u001b[1m15s\u001b[0m 16ms/step - accuracy: 0.9827 - loss: 0.0523 - val_accuracy: 0.8382 - val_loss: 0.6378\n",
            "Epoch 10/50\n",
            "\u001b[1m900/900\u001b[0m \u001b[32m━━━━━━━━━━━━━━━━━━━━\u001b[0m\u001b[37m\u001b[0m \u001b[1m16s\u001b[0m 17ms/step - accuracy: 0.9838 - loss: 0.0495 - val_accuracy: 0.8617 - val_loss: 0.5995\n",
            "Epoch 11/50\n",
            "\u001b[1m900/900\u001b[0m \u001b[32m━━━━━━━━━━━━━━━━━━━━\u001b[0m\u001b[37m\u001b[0m \u001b[1m15s\u001b[0m 17ms/step - accuracy: 0.9874 - loss: 0.0395 - val_accuracy: 0.8551 - val_loss: 0.6496\n",
            "Epoch 12/50\n",
            "\u001b[1m900/900\u001b[0m \u001b[32m━━━━━━━━━━━━━━━━━━━━\u001b[0m\u001b[37m\u001b[0m \u001b[1m17s\u001b[0m 18ms/step - accuracy: 0.9893 - loss: 0.0359 - val_accuracy: 0.8550 - val_loss: 0.7831\n",
            "Epoch 13/50\n",
            "\u001b[1m900/900\u001b[0m \u001b[32m━━━━━━━━━━━━━━━━━━━━\u001b[0m\u001b[37m\u001b[0m \u001b[1m16s\u001b[0m 18ms/step - accuracy: 0.9873 - loss: 0.0376 - val_accuracy: 0.8703 - val_loss: 0.6001\n",
            "Epoch 14/50\n",
            "\u001b[1m900/900\u001b[0m \u001b[32m━━━━━━━━━━━━━━━━━━━━\u001b[0m\u001b[37m\u001b[0m \u001b[1m15s\u001b[0m 17ms/step - accuracy: 0.9911 - loss: 0.0281 - val_accuracy: 0.8721 - val_loss: 0.6638\n",
            "Epoch 15/50\n",
            "\u001b[1m900/900\u001b[0m \u001b[32m━━━━━━━━━━━━━━━━━━━━\u001b[0m\u001b[37m\u001b[0m \u001b[1m15s\u001b[0m 17ms/step - accuracy: 0.9924 - loss: 0.0246 - val_accuracy: 0.8724 - val_loss: 0.7162\n",
            "Epoch 16/50\n",
            "\u001b[1m900/900\u001b[0m \u001b[32m━━━━━━━━━━━━━━━━━━━━\u001b[0m\u001b[37m\u001b[0m \u001b[1m15s\u001b[0m 17ms/step - accuracy: 0.9895 - loss: 0.0311 - val_accuracy: 0.8649 - val_loss: 0.7445\n",
            "Epoch 17/50\n",
            "\u001b[1m900/900\u001b[0m \u001b[32m━━━━━━━━━━━━━━━━━━━━\u001b[0m\u001b[37m\u001b[0m \u001b[1m15s\u001b[0m 17ms/step - accuracy: 0.9929 - loss: 0.0229 - val_accuracy: 0.8678 - val_loss: 0.7075\n",
            "Epoch 18/50\n",
            "\u001b[1m900/900\u001b[0m \u001b[32m━━━━━━━━━━━━━━━━━━━━\u001b[0m\u001b[37m\u001b[0m \u001b[1m15s\u001b[0m 17ms/step - accuracy: 0.9922 - loss: 0.0261 - val_accuracy: 0.8563 - val_loss: 0.7952\n",
            "Epoch 19/50\n",
            "\u001b[1m900/900\u001b[0m \u001b[32m━━━━━━━━━━━━━━━━━━━━\u001b[0m\u001b[37m\u001b[0m \u001b[1m15s\u001b[0m 17ms/step - accuracy: 0.9931 - loss: 0.0226 - val_accuracy: 0.8642 - val_loss: 0.6978\n",
            "Epoch 20/50\n",
            "\u001b[1m900/900\u001b[0m \u001b[32m━━━━━━━━━━━━━━━━━━━━\u001b[0m\u001b[37m\u001b[0m \u001b[1m15s\u001b[0m 17ms/step - accuracy: 0.9939 - loss: 0.0201 - val_accuracy: 0.8665 - val_loss: 0.6793\n",
            "Epoch 21/50\n",
            "\u001b[1m900/900\u001b[0m \u001b[32m━━━━━━━━━━━━━━━━━━━━\u001b[0m\u001b[37m\u001b[0m \u001b[1m15s\u001b[0m 17ms/step - accuracy: 0.9944 - loss: 0.0194 - val_accuracy: 0.8675 - val_loss: 0.7514\n",
            "Epoch 22/50\n",
            "\u001b[1m900/900\u001b[0m \u001b[32m━━━━━━━━━━━━━━━━━━━━\u001b[0m\u001b[37m\u001b[0m \u001b[1m15s\u001b[0m 17ms/step - accuracy: 0.9942 - loss: 0.0200 - val_accuracy: 0.8742 - val_loss: 0.7198\n",
            "Epoch 23/50\n",
            "\u001b[1m900/900\u001b[0m \u001b[32m━━━━━━━━━━━━━━━━━━━━\u001b[0m\u001b[37m\u001b[0m \u001b[1m15s\u001b[0m 17ms/step - accuracy: 0.9948 - loss: 0.0169 - val_accuracy: 0.8776 - val_loss: 0.7461\n",
            "Epoch 24/50\n",
            "\u001b[1m900/900\u001b[0m \u001b[32m━━━━━━━━━━━━━━━━━━━━\u001b[0m\u001b[37m\u001b[0m \u001b[1m15s\u001b[0m 17ms/step - accuracy: 0.9955 - loss: 0.0154 - val_accuracy: 0.8726 - val_loss: 0.7766\n",
            "Epoch 25/50\n",
            "\u001b[1m900/900\u001b[0m \u001b[32m━━━━━━━━━━━━━━━━━━━━\u001b[0m\u001b[37m\u001b[0m \u001b[1m15s\u001b[0m 16ms/step - accuracy: 0.9951 - loss: 0.0177 - val_accuracy: 0.8494 - val_loss: 0.7677\n",
            "Epoch 26/50\n",
            "\u001b[1m900/900\u001b[0m \u001b[32m━━━━━━━━━━━━━━━━━━━━\u001b[0m\u001b[37m\u001b[0m \u001b[1m15s\u001b[0m 17ms/step - accuracy: 0.9938 - loss: 0.0195 - val_accuracy: 0.8722 - val_loss: 0.7940\n",
            "Epoch 27/50\n",
            "\u001b[1m900/900\u001b[0m \u001b[32m━━━━━━━━━━━━━━━━━━━━\u001b[0m\u001b[37m\u001b[0m \u001b[1m15s\u001b[0m 16ms/step - accuracy: 0.9957 - loss: 0.0137 - val_accuracy: 0.8614 - val_loss: 0.8496\n",
            "Epoch 28/50\n",
            "\u001b[1m900/900\u001b[0m \u001b[32m━━━━━━━━━━━━━━━━━━━━\u001b[0m\u001b[37m\u001b[0m \u001b[1m15s\u001b[0m 17ms/step - accuracy: 0.9950 - loss: 0.0176 - val_accuracy: 0.8699 - val_loss: 0.8142\n",
            "Epoch 29/50\n",
            "\u001b[1m900/900\u001b[0m \u001b[32m━━━━━━━━━━━━━━━━━━━━\u001b[0m\u001b[37m\u001b[0m \u001b[1m15s\u001b[0m 17ms/step - accuracy: 0.9949 - loss: 0.0158 - val_accuracy: 0.8569 - val_loss: 0.8008\n",
            "Epoch 30/50\n",
            "\u001b[1m900/900\u001b[0m \u001b[32m━━━━━━━━━━━━━━━━━━━━\u001b[0m\u001b[37m\u001b[0m \u001b[1m15s\u001b[0m 17ms/step - accuracy: 0.9956 - loss: 0.0139 - val_accuracy: 0.8622 - val_loss: 0.7528\n",
            "Epoch 31/50\n",
            "\u001b[1m900/900\u001b[0m \u001b[32m━━━━━━━━━━━━━━━━━━━━\u001b[0m\u001b[37m\u001b[0m \u001b[1m15s\u001b[0m 17ms/step - accuracy: 0.9943 - loss: 0.0187 - val_accuracy: 0.8669 - val_loss: 0.8512\n",
            "Epoch 32/50\n",
            "\u001b[1m900/900\u001b[0m \u001b[32m━━━━━━━━━━━━━━━━━━━━\u001b[0m\u001b[37m\u001b[0m \u001b[1m16s\u001b[0m 18ms/step - accuracy: 0.9946 - loss: 0.0177 - val_accuracy: 0.8703 - val_loss: 0.7413\n",
            "Epoch 33/50\n",
            "\u001b[1m900/900\u001b[0m \u001b[32m━━━━━━━━━━━━━━━━━━━━\u001b[0m\u001b[37m\u001b[0m \u001b[1m15s\u001b[0m 17ms/step - accuracy: 0.9965 - loss: 0.0108 - val_accuracy: 0.8717 - val_loss: 0.8339\n",
            "Epoch 34/50\n",
            "\u001b[1m900/900\u001b[0m \u001b[32m━━━━━━━━━━━━━━━━━━━━\u001b[0m\u001b[37m\u001b[0m \u001b[1m16s\u001b[0m 18ms/step - accuracy: 0.9969 - loss: 0.0096 - val_accuracy: 0.8689 - val_loss: 0.8144\n",
            "Epoch 35/50\n",
            "\u001b[1m900/900\u001b[0m \u001b[32m━━━━━━━━━━━━━━━━━━━━\u001b[0m\u001b[37m\u001b[0m \u001b[1m17s\u001b[0m 18ms/step - accuracy: 0.9958 - loss: 0.0139 - val_accuracy: 0.8696 - val_loss: 0.9227\n",
            "Epoch 36/50\n",
            "\u001b[1m900/900\u001b[0m \u001b[32m━━━━━━━━━━━━━━━━━━━━\u001b[0m\u001b[37m\u001b[0m \u001b[1m17s\u001b[0m 19ms/step - accuracy: 0.9954 - loss: 0.0148 - val_accuracy: 0.8744 - val_loss: 0.7446\n",
            "Epoch 37/50\n",
            "\u001b[1m900/900\u001b[0m \u001b[32m━━━━━━━━━━━━━━━━━━━━\u001b[0m\u001b[37m\u001b[0m \u001b[1m16s\u001b[0m 17ms/step - accuracy: 0.9961 - loss: 0.0127 - val_accuracy: 0.8737 - val_loss: 0.9774\n",
            "Epoch 38/50\n",
            "\u001b[1m900/900\u001b[0m \u001b[32m━━━━━━━━━━━━━━━━━━━━\u001b[0m\u001b[37m\u001b[0m \u001b[1m15s\u001b[0m 17ms/step - accuracy: 0.9961 - loss: 0.0136 - val_accuracy: 0.8703 - val_loss: 0.9153\n",
            "Epoch 39/50\n",
            "\u001b[1m900/900\u001b[0m \u001b[32m━━━━━━━━━━━━━━━━━━━━\u001b[0m\u001b[37m\u001b[0m \u001b[1m15s\u001b[0m 17ms/step - accuracy: 0.9966 - loss: 0.0130 - val_accuracy: 0.8752 - val_loss: 0.8818\n",
            "Epoch 40/50\n",
            "\u001b[1m900/900\u001b[0m \u001b[32m━━━━━━━━━━━━━━━━━━━━\u001b[0m\u001b[37m\u001b[0m \u001b[1m16s\u001b[0m 18ms/step - accuracy: 0.9970 - loss: 0.0106 - val_accuracy: 0.8793 - val_loss: 0.8289\n",
            "Epoch 41/50\n",
            "\u001b[1m900/900\u001b[0m \u001b[32m━━━━━━━━━━━━━━━━━━━━\u001b[0m\u001b[37m\u001b[0m \u001b[1m17s\u001b[0m 19ms/step - accuracy: 0.9968 - loss: 0.0107 - val_accuracy: 0.8675 - val_loss: 0.8205\n",
            "Epoch 42/50\n",
            "\u001b[1m900/900\u001b[0m \u001b[32m━━━━━━━━━━━━━━━━━━━━\u001b[0m\u001b[37m\u001b[0m \u001b[1m16s\u001b[0m 17ms/step - accuracy: 0.9969 - loss: 0.0113 - val_accuracy: 0.8673 - val_loss: 0.9919\n",
            "Epoch 43/50\n",
            "\u001b[1m900/900\u001b[0m \u001b[32m━━━━━━━━━━━━━━━━━━━━\u001b[0m\u001b[37m\u001b[0m \u001b[1m16s\u001b[0m 17ms/step - accuracy: 0.9966 - loss: 0.0109 - val_accuracy: 0.8689 - val_loss: 0.8739\n",
            "Epoch 44/50\n",
            "\u001b[1m900/900\u001b[0m \u001b[32m━━━━━━━━━━━━━━━━━━━━\u001b[0m\u001b[37m\u001b[0m \u001b[1m16s\u001b[0m 17ms/step - accuracy: 0.9974 - loss: 0.0088 - val_accuracy: 0.8616 - val_loss: 0.8249\n",
            "Epoch 45/50\n",
            "\u001b[1m900/900\u001b[0m \u001b[32m━━━━━━━━━━━━━━━━━━━━\u001b[0m\u001b[37m\u001b[0m \u001b[1m16s\u001b[0m 18ms/step - accuracy: 0.9969 - loss: 0.0096 - val_accuracy: 0.8739 - val_loss: 0.9003\n",
            "Epoch 46/50\n",
            "\u001b[1m900/900\u001b[0m \u001b[32m━━━━━━━━━━━━━━━━━━━━\u001b[0m\u001b[37m\u001b[0m \u001b[1m15s\u001b[0m 17ms/step - accuracy: 0.9961 - loss: 0.0129 - val_accuracy: 0.8644 - val_loss: 0.9259\n",
            "Epoch 47/50\n",
            "\u001b[1m900/900\u001b[0m \u001b[32m━━━━━━━━━━━━━━━━━━━━\u001b[0m\u001b[37m\u001b[0m \u001b[1m17s\u001b[0m 19ms/step - accuracy: 0.9971 - loss: 0.0102 - val_accuracy: 0.8763 - val_loss: 0.9373\n",
            "Epoch 48/50\n",
            "\u001b[1m900/900\u001b[0m \u001b[32m━━━━━━━━━━━━━━━━━━━━\u001b[0m\u001b[37m\u001b[0m \u001b[1m15s\u001b[0m 17ms/step - accuracy: 0.9976 - loss: 0.0080 - val_accuracy: 0.8722 - val_loss: 0.9521\n",
            "Epoch 49/50\n",
            "\u001b[1m900/900\u001b[0m \u001b[32m━━━━━━━━━━━━━━━━━━━━\u001b[0m\u001b[37m\u001b[0m \u001b[1m15s\u001b[0m 17ms/step - accuracy: 0.9968 - loss: 0.0108 - val_accuracy: 0.8708 - val_loss: 0.8892\n",
            "Epoch 50/50\n",
            "\u001b[1m900/900\u001b[0m \u001b[32m━━━━━━━━━━━━━━━━━━━━\u001b[0m\u001b[37m\u001b[0m \u001b[1m15s\u001b[0m 16ms/step - accuracy: 0.9972 - loss: 0.0107 - val_accuracy: 0.8727 - val_loss: 0.8973\n"
          ]
        }
      ],
      "source": [
        "# Evaluate the model\n",
        "history = model.fit(\n",
        "    X_dl_train, y_dl_train,\n",
        "    validation_data=(X_dl_test, y_dl_test),\n",
        "    epochs=50,\n",
        "    batch_size=64,\n",
        "    callbacks=[AccuracyCallback()],\n",
        "    verbose=1\n",
        ")"
      ]
    },
    {
      "cell_type": "markdown",
      "metadata": {},
      "source": [
        "### Gated Recurrent Unit (GRU)"
      ]
    },
    {
      "cell_type": "code",
      "execution_count": null,
      "metadata": {},
      "outputs": [],
      "source": [
        "# GRU model for sentiment analysis\n",
        "model = Sequential([\n",
        "    Embedding(input_dim=5000, output_dim=128, input_length=max_length),\n",
        "    GRU(128, return_sequences=True, dropout=0.2, recurrent_dropout=0.2),\n",
        "    GRU(64, dropout=0.2, recurrent_dropout=0.2),\n",
        "    Dense(64, activation='relu'),\n",
        "    Dropout(0.5),\n",
        "    BatchNormalization(),\n",
        "    Dense(3, activation='softmax')\n",
        "])\n",
        "\n",
        "model.compile(\n",
        "    loss='categorical_crossentropy',\n",
        "    optimizer='adam',\n",
        "    metrics=['accuracy']\n",
        ")"
      ]
    },
    {
      "cell_type": "code",
      "execution_count": null,
      "metadata": {},
      "outputs": [
        {
          "name": "stdout",
          "output_type": "stream",
          "text": [
            "Epoch 1/50\n",
            "\u001b[1m900/900\u001b[0m \u001b[32m━━━━━━━━━━━━━━━━━━━━\u001b[0m\u001b[37m\u001b[0m \u001b[1m153s\u001b[0m 165ms/step - accuracy: 0.7234 - loss: 0.6641 - val_accuracy: 0.8952 - val_loss: 0.2906\n",
            "Epoch 2/50\n",
            "\u001b[1m900/900\u001b[0m \u001b[32m━━━━━━━━━━━━━━━━━━━━\u001b[0m\u001b[37m\u001b[0m \u001b[1m146s\u001b[0m 163ms/step - accuracy: 0.8954 - loss: 0.2895 - val_accuracy: 0.9072 - val_loss: 0.2525\n",
            "Epoch 3/50\n",
            "\u001b[1m900/900\u001b[0m \u001b[32m━━━━━━━━━━━━━━━━━━━━\u001b[0m\u001b[37m\u001b[0m \u001b[1m145s\u001b[0m 161ms/step - accuracy: 0.9119 - loss: 0.2448 - val_accuracy: 0.8988 - val_loss: 0.2783\n",
            "Epoch 4/50\n",
            "\u001b[1m900/900\u001b[0m \u001b[32m━━━━━━━━━━━━━━━━━━━━\u001b[0m\u001b[37m\u001b[0m \u001b[1m0s\u001b[0m 153ms/step - accuracy: 0.9244 - loss: 0.2097\n",
            "Akurasi dan val_akurasi > 92% pada epoch 4. Training dihentikan.\n",
            "\u001b[1m900/900\u001b[0m \u001b[32m━━━━━━━━━━━━━━━━━━━━\u001b[0m\u001b[37m\u001b[0m \u001b[1m146s\u001b[0m 162ms/step - accuracy: 0.9244 - loss: 0.2097 - val_accuracy: 0.9201 - val_loss: 0.2289\n"
          ]
        }
      ],
      "source": [
        "# Evaluate the model\n",
        "history = model.fit(\n",
        "    X_dl_train, y_dl_train,\n",
        "    epochs=50,\n",
        "    batch_size=64,\n",
        "    validation_data=(X_dl_test, y_dl_test),\n",
        "    callbacks=[AccuracyCallback()]\n",
        ")"
      ]
    },
    {
      "cell_type": "markdown",
      "metadata": {},
      "source": [
        "## Inference"
      ]
    },
    {
      "cell_type": "code",
      "execution_count": null,
      "metadata": {},
      "outputs": [
        {
          "name": "stdout",
          "output_type": "stream",
          "text": [
            "\u001b[1m1/1\u001b[0m \u001b[32m━━━━━━━━━━━━━━━━━━━━\u001b[0m\u001b[37m\u001b[0m \u001b[1m0s\u001b[0m 74ms/step\n",
            "Sentimen: negatif\n"
          ]
        }
      ],
      "source": [
        "# Test the model with a sample text\n",
        "label_mapping = {0: 'negatif', 1: 'netral', 2: 'positif'}\n",
        "\n",
        "def predict_sentiment(text):\n",
        "    cleaned = cleaning_text(text)\n",
        "    folded = casefolding_text(cleaned)\n",
        "    fixed = fix_slangwords(folded)\n",
        "    tokens = tokenizing_text(fixed)\n",
        "    filtered = filtering_text(tokens)\n",
        "    stemmed = stemming_text(' '.join(filtered))\n",
        "\n",
        "    sequence = tokenizer.texts_to_sequences([stemmed])\n",
        "    padded = pad_sequences(sequence, maxlen=max_length)\n",
        "\n",
        "    prediction = model.predict(padded)\n",
        "    predicted_label_index = prediction.argmax(axis=1)[0]\n",
        "    sentiment = label_mapping[predicted_label_index]\n",
        "\n",
        "    return sentiment\n",
        "\n",
        "input_text = input(\"Enter a new sentence: \")\n",
        "hasil = predict_sentiment(input_text)\n",
        "print(f\"Sentimen: {hasil}\")"
      ]
    }
  ],
  "metadata": {
    "accelerator": "GPU",
    "colab": {
      "gpuType": "T4",
      "provenance": []
    },
    "kernelspec": {
      "display_name": "bpml1_env",
      "language": "python",
      "name": "python3"
    },
    "language_info": {
      "codemirror_mode": {
        "name": "ipython",
        "version": 3
      },
      "file_extension": ".py",
      "mimetype": "text/x-python",
      "name": "python",
      "nbconvert_exporter": "python",
      "pygments_lexer": "ipython3",
      "version": "3.11.9"
    }
  },
  "nbformat": 4,
  "nbformat_minor": 0
}
